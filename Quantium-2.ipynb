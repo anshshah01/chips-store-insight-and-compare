{
 "cells": [
  {
   "cell_type": "markdown",
   "id": "f349a82f",
   "metadata": {},
   "source": [
    "total sales revenue\n",
    "\n",
    "total number of customers\n",
    "\n",
    "average number of transactions per customer\n"
   ]
  },
  {
   "cell_type": "code",
   "execution_count": 59,
   "id": "64f48df2",
   "metadata": {},
   "outputs": [],
   "source": [
    "import pandas as pd"
   ]
  },
  {
   "cell_type": "code",
   "execution_count": 60,
   "id": "d3833f77",
   "metadata": {},
   "outputs": [],
   "source": [
    "df=pd.read_csv('QVI_data.csv')"
   ]
  },
  {
   "cell_type": "code",
   "execution_count": 61,
   "id": "64dbe025",
   "metadata": {},
   "outputs": [
    {
     "data": {
      "text/html": [
       "<div>\n",
       "<style scoped>\n",
       "    .dataframe tbody tr th:only-of-type {\n",
       "        vertical-align: middle;\n",
       "    }\n",
       "\n",
       "    .dataframe tbody tr th {\n",
       "        vertical-align: top;\n",
       "    }\n",
       "\n",
       "    .dataframe thead th {\n",
       "        text-align: right;\n",
       "    }\n",
       "</style>\n",
       "<table border=\"1\" class=\"dataframe\">\n",
       "  <thead>\n",
       "    <tr style=\"text-align: right;\">\n",
       "      <th></th>\n",
       "      <th>LYLTY_CARD_NBR</th>\n",
       "      <th>DATE</th>\n",
       "      <th>STORE_NBR</th>\n",
       "      <th>TXN_ID</th>\n",
       "      <th>PROD_NBR</th>\n",
       "      <th>PROD_NAME</th>\n",
       "      <th>PROD_QTY</th>\n",
       "      <th>TOT_SALES</th>\n",
       "      <th>PACK_SIZE</th>\n",
       "      <th>BRAND</th>\n",
       "      <th>LIFESTAGE</th>\n",
       "      <th>PREMIUM_CUSTOMER</th>\n",
       "    </tr>\n",
       "  </thead>\n",
       "  <tbody>\n",
       "    <tr>\n",
       "      <th>0</th>\n",
       "      <td>1000</td>\n",
       "      <td>2018-10-17</td>\n",
       "      <td>1</td>\n",
       "      <td>1</td>\n",
       "      <td>5</td>\n",
       "      <td>Natural Chip        Compny SeaSalt175g</td>\n",
       "      <td>2</td>\n",
       "      <td>6.0</td>\n",
       "      <td>175</td>\n",
       "      <td>NATURAL</td>\n",
       "      <td>YOUNG SINGLES/COUPLES</td>\n",
       "      <td>Premium</td>\n",
       "    </tr>\n",
       "    <tr>\n",
       "      <th>1</th>\n",
       "      <td>1002</td>\n",
       "      <td>2018-09-16</td>\n",
       "      <td>1</td>\n",
       "      <td>2</td>\n",
       "      <td>58</td>\n",
       "      <td>Red Rock Deli Chikn&amp;Garlic Aioli 150g</td>\n",
       "      <td>1</td>\n",
       "      <td>2.7</td>\n",
       "      <td>150</td>\n",
       "      <td>RRD</td>\n",
       "      <td>YOUNG SINGLES/COUPLES</td>\n",
       "      <td>Mainstream</td>\n",
       "    </tr>\n",
       "    <tr>\n",
       "      <th>2</th>\n",
       "      <td>1003</td>\n",
       "      <td>2019-03-07</td>\n",
       "      <td>1</td>\n",
       "      <td>3</td>\n",
       "      <td>52</td>\n",
       "      <td>Grain Waves Sour    Cream&amp;Chives 210G</td>\n",
       "      <td>1</td>\n",
       "      <td>3.6</td>\n",
       "      <td>210</td>\n",
       "      <td>GRNWVES</td>\n",
       "      <td>YOUNG FAMILIES</td>\n",
       "      <td>Budget</td>\n",
       "    </tr>\n",
       "    <tr>\n",
       "      <th>3</th>\n",
       "      <td>1003</td>\n",
       "      <td>2019-03-08</td>\n",
       "      <td>1</td>\n",
       "      <td>4</td>\n",
       "      <td>106</td>\n",
       "      <td>Natural ChipCo      Hony Soy Chckn175g</td>\n",
       "      <td>1</td>\n",
       "      <td>3.0</td>\n",
       "      <td>175</td>\n",
       "      <td>NATURAL</td>\n",
       "      <td>YOUNG FAMILIES</td>\n",
       "      <td>Budget</td>\n",
       "    </tr>\n",
       "    <tr>\n",
       "      <th>4</th>\n",
       "      <td>1004</td>\n",
       "      <td>2018-11-02</td>\n",
       "      <td>1</td>\n",
       "      <td>5</td>\n",
       "      <td>96</td>\n",
       "      <td>WW Original Stacked Chips 160g</td>\n",
       "      <td>1</td>\n",
       "      <td>1.9</td>\n",
       "      <td>160</td>\n",
       "      <td>WOOLWORTHS</td>\n",
       "      <td>OLDER SINGLES/COUPLES</td>\n",
       "      <td>Mainstream</td>\n",
       "    </tr>\n",
       "    <tr>\n",
       "      <th>...</th>\n",
       "      <td>...</td>\n",
       "      <td>...</td>\n",
       "      <td>...</td>\n",
       "      <td>...</td>\n",
       "      <td>...</td>\n",
       "      <td>...</td>\n",
       "      <td>...</td>\n",
       "      <td>...</td>\n",
       "      <td>...</td>\n",
       "      <td>...</td>\n",
       "      <td>...</td>\n",
       "      <td>...</td>\n",
       "    </tr>\n",
       "    <tr>\n",
       "      <th>264829</th>\n",
       "      <td>2370701</td>\n",
       "      <td>2018-12-08</td>\n",
       "      <td>88</td>\n",
       "      <td>240378</td>\n",
       "      <td>24</td>\n",
       "      <td>Grain Waves         Sweet Chilli 210g</td>\n",
       "      <td>2</td>\n",
       "      <td>7.2</td>\n",
       "      <td>210</td>\n",
       "      <td>GRNWVES</td>\n",
       "      <td>YOUNG FAMILIES</td>\n",
       "      <td>Mainstream</td>\n",
       "    </tr>\n",
       "    <tr>\n",
       "      <th>264830</th>\n",
       "      <td>2370751</td>\n",
       "      <td>2018-10-01</td>\n",
       "      <td>88</td>\n",
       "      <td>240394</td>\n",
       "      <td>60</td>\n",
       "      <td>Kettle Tortilla ChpsFeta&amp;Garlic 150g</td>\n",
       "      <td>2</td>\n",
       "      <td>9.2</td>\n",
       "      <td>150</td>\n",
       "      <td>KETTLE</td>\n",
       "      <td>YOUNG FAMILIES</td>\n",
       "      <td>Premium</td>\n",
       "    </tr>\n",
       "    <tr>\n",
       "      <th>264831</th>\n",
       "      <td>2370961</td>\n",
       "      <td>2018-10-24</td>\n",
       "      <td>88</td>\n",
       "      <td>240480</td>\n",
       "      <td>70</td>\n",
       "      <td>Tyrrells Crisps     Lightly Salted 165g</td>\n",
       "      <td>2</td>\n",
       "      <td>8.4</td>\n",
       "      <td>165</td>\n",
       "      <td>TYRRELLS</td>\n",
       "      <td>OLDER FAMILIES</td>\n",
       "      <td>Budget</td>\n",
       "    </tr>\n",
       "    <tr>\n",
       "      <th>264832</th>\n",
       "      <td>2370961</td>\n",
       "      <td>2018-10-27</td>\n",
       "      <td>88</td>\n",
       "      <td>240481</td>\n",
       "      <td>65</td>\n",
       "      <td>Old El Paso Salsa   Dip Chnky Tom Ht300g</td>\n",
       "      <td>2</td>\n",
       "      <td>10.2</td>\n",
       "      <td>300</td>\n",
       "      <td>OLD</td>\n",
       "      <td>OLDER FAMILIES</td>\n",
       "      <td>Budget</td>\n",
       "    </tr>\n",
       "    <tr>\n",
       "      <th>264833</th>\n",
       "      <td>2373711</td>\n",
       "      <td>2018-12-14</td>\n",
       "      <td>88</td>\n",
       "      <td>241815</td>\n",
       "      <td>16</td>\n",
       "      <td>Smiths Crinkle Chips Salt &amp; Vinegar 330g</td>\n",
       "      <td>2</td>\n",
       "      <td>11.4</td>\n",
       "      <td>330</td>\n",
       "      <td>SMITHS</td>\n",
       "      <td>YOUNG SINGLES/COUPLES</td>\n",
       "      <td>Mainstream</td>\n",
       "    </tr>\n",
       "  </tbody>\n",
       "</table>\n",
       "<p>264834 rows × 12 columns</p>\n",
       "</div>"
      ],
      "text/plain": [
       "        LYLTY_CARD_NBR        DATE  STORE_NBR  TXN_ID  PROD_NBR  \\\n",
       "0                 1000  2018-10-17          1       1         5   \n",
       "1                 1002  2018-09-16          1       2        58   \n",
       "2                 1003  2019-03-07          1       3        52   \n",
       "3                 1003  2019-03-08          1       4       106   \n",
       "4                 1004  2018-11-02          1       5        96   \n",
       "...                ...         ...        ...     ...       ...   \n",
       "264829         2370701  2018-12-08         88  240378        24   \n",
       "264830         2370751  2018-10-01         88  240394        60   \n",
       "264831         2370961  2018-10-24         88  240480        70   \n",
       "264832         2370961  2018-10-27         88  240481        65   \n",
       "264833         2373711  2018-12-14         88  241815        16   \n",
       "\n",
       "                                       PROD_NAME  PROD_QTY  TOT_SALES  \\\n",
       "0         Natural Chip        Compny SeaSalt175g         2        6.0   \n",
       "1          Red Rock Deli Chikn&Garlic Aioli 150g         1        2.7   \n",
       "2          Grain Waves Sour    Cream&Chives 210G         1        3.6   \n",
       "3         Natural ChipCo      Hony Soy Chckn175g         1        3.0   \n",
       "4                 WW Original Stacked Chips 160g         1        1.9   \n",
       "...                                          ...       ...        ...   \n",
       "264829     Grain Waves         Sweet Chilli 210g         2        7.2   \n",
       "264830      Kettle Tortilla ChpsFeta&Garlic 150g         2        9.2   \n",
       "264831   Tyrrells Crisps     Lightly Salted 165g         2        8.4   \n",
       "264832  Old El Paso Salsa   Dip Chnky Tom Ht300g         2       10.2   \n",
       "264833  Smiths Crinkle Chips Salt & Vinegar 330g         2       11.4   \n",
       "\n",
       "        PACK_SIZE       BRAND              LIFESTAGE PREMIUM_CUSTOMER  \n",
       "0             175     NATURAL  YOUNG SINGLES/COUPLES          Premium  \n",
       "1             150         RRD  YOUNG SINGLES/COUPLES       Mainstream  \n",
       "2             210     GRNWVES         YOUNG FAMILIES           Budget  \n",
       "3             175     NATURAL         YOUNG FAMILIES           Budget  \n",
       "4             160  WOOLWORTHS  OLDER SINGLES/COUPLES       Mainstream  \n",
       "...           ...         ...                    ...              ...  \n",
       "264829        210     GRNWVES         YOUNG FAMILIES       Mainstream  \n",
       "264830        150      KETTLE         YOUNG FAMILIES          Premium  \n",
       "264831        165    TYRRELLS         OLDER FAMILIES           Budget  \n",
       "264832        300         OLD         OLDER FAMILIES           Budget  \n",
       "264833        330      SMITHS  YOUNG SINGLES/COUPLES       Mainstream  \n",
       "\n",
       "[264834 rows x 12 columns]"
      ]
     },
     "execution_count": 61,
     "metadata": {},
     "output_type": "execute_result"
    }
   ],
   "source": [
    "df"
   ]
  },
  {
   "cell_type": "code",
   "execution_count": 62,
   "id": "f03befa0",
   "metadata": {},
   "outputs": [
    {
     "data": {
      "text/html": [
       "<div>\n",
       "<style scoped>\n",
       "    .dataframe tbody tr th:only-of-type {\n",
       "        vertical-align: middle;\n",
       "    }\n",
       "\n",
       "    .dataframe tbody tr th {\n",
       "        vertical-align: top;\n",
       "    }\n",
       "\n",
       "    .dataframe thead th {\n",
       "        text-align: right;\n",
       "    }\n",
       "</style>\n",
       "<table border=\"1\" class=\"dataframe\">\n",
       "  <thead>\n",
       "    <tr style=\"text-align: right;\">\n",
       "      <th></th>\n",
       "      <th>LYLTY_CARD_NBR</th>\n",
       "      <th>STORE_NBR</th>\n",
       "      <th>TXN_ID</th>\n",
       "      <th>PROD_NBR</th>\n",
       "      <th>PROD_QTY</th>\n",
       "      <th>TOT_SALES</th>\n",
       "      <th>PACK_SIZE</th>\n",
       "    </tr>\n",
       "  </thead>\n",
       "  <tbody>\n",
       "    <tr>\n",
       "      <th>count</th>\n",
       "      <td>2.648340e+05</td>\n",
       "      <td>264834.000000</td>\n",
       "      <td>2.648340e+05</td>\n",
       "      <td>264834.000000</td>\n",
       "      <td>264834.000000</td>\n",
       "      <td>264834.000000</td>\n",
       "      <td>264834.000000</td>\n",
       "    </tr>\n",
       "    <tr>\n",
       "      <th>mean</th>\n",
       "      <td>1.355488e+05</td>\n",
       "      <td>135.079423</td>\n",
       "      <td>1.351576e+05</td>\n",
       "      <td>56.583554</td>\n",
       "      <td>1.905813</td>\n",
       "      <td>7.299346</td>\n",
       "      <td>182.425512</td>\n",
       "    </tr>\n",
       "    <tr>\n",
       "      <th>std</th>\n",
       "      <td>8.057990e+04</td>\n",
       "      <td>76.784063</td>\n",
       "      <td>7.813292e+04</td>\n",
       "      <td>32.826444</td>\n",
       "      <td>0.343436</td>\n",
       "      <td>2.527241</td>\n",
       "      <td>64.325148</td>\n",
       "    </tr>\n",
       "    <tr>\n",
       "      <th>min</th>\n",
       "      <td>1.000000e+03</td>\n",
       "      <td>1.000000</td>\n",
       "      <td>1.000000e+00</td>\n",
       "      <td>1.000000</td>\n",
       "      <td>1.000000</td>\n",
       "      <td>1.500000</td>\n",
       "      <td>70.000000</td>\n",
       "    </tr>\n",
       "    <tr>\n",
       "      <th>25%</th>\n",
       "      <td>7.002100e+04</td>\n",
       "      <td>70.000000</td>\n",
       "      <td>6.760050e+04</td>\n",
       "      <td>28.000000</td>\n",
       "      <td>2.000000</td>\n",
       "      <td>5.400000</td>\n",
       "      <td>150.000000</td>\n",
       "    </tr>\n",
       "    <tr>\n",
       "      <th>50%</th>\n",
       "      <td>1.303570e+05</td>\n",
       "      <td>130.000000</td>\n",
       "      <td>1.351365e+05</td>\n",
       "      <td>56.000000</td>\n",
       "      <td>2.000000</td>\n",
       "      <td>7.400000</td>\n",
       "      <td>170.000000</td>\n",
       "    </tr>\n",
       "    <tr>\n",
       "      <th>75%</th>\n",
       "      <td>2.030940e+05</td>\n",
       "      <td>203.000000</td>\n",
       "      <td>2.026998e+05</td>\n",
       "      <td>85.000000</td>\n",
       "      <td>2.000000</td>\n",
       "      <td>9.200000</td>\n",
       "      <td>175.000000</td>\n",
       "    </tr>\n",
       "    <tr>\n",
       "      <th>max</th>\n",
       "      <td>2.373711e+06</td>\n",
       "      <td>272.000000</td>\n",
       "      <td>2.415841e+06</td>\n",
       "      <td>114.000000</td>\n",
       "      <td>5.000000</td>\n",
       "      <td>29.500000</td>\n",
       "      <td>380.000000</td>\n",
       "    </tr>\n",
       "  </tbody>\n",
       "</table>\n",
       "</div>"
      ],
      "text/plain": [
       "       LYLTY_CARD_NBR      STORE_NBR        TXN_ID       PROD_NBR  \\\n",
       "count    2.648340e+05  264834.000000  2.648340e+05  264834.000000   \n",
       "mean     1.355488e+05     135.079423  1.351576e+05      56.583554   \n",
       "std      8.057990e+04      76.784063  7.813292e+04      32.826444   \n",
       "min      1.000000e+03       1.000000  1.000000e+00       1.000000   \n",
       "25%      7.002100e+04      70.000000  6.760050e+04      28.000000   \n",
       "50%      1.303570e+05     130.000000  1.351365e+05      56.000000   \n",
       "75%      2.030940e+05     203.000000  2.026998e+05      85.000000   \n",
       "max      2.373711e+06     272.000000  2.415841e+06     114.000000   \n",
       "\n",
       "            PROD_QTY      TOT_SALES      PACK_SIZE  \n",
       "count  264834.000000  264834.000000  264834.000000  \n",
       "mean        1.905813       7.299346     182.425512  \n",
       "std         0.343436       2.527241      64.325148  \n",
       "min         1.000000       1.500000      70.000000  \n",
       "25%         2.000000       5.400000     150.000000  \n",
       "50%         2.000000       7.400000     170.000000  \n",
       "75%         2.000000       9.200000     175.000000  \n",
       "max         5.000000      29.500000     380.000000  "
      ]
     },
     "execution_count": 62,
     "metadata": {},
     "output_type": "execute_result"
    }
   ],
   "source": [
    "df.describe()"
   ]
  },
  {
   "cell_type": "markdown",
   "id": "32ab3135",
   "metadata": {},
   "source": [
    "total sales revenue"
   ]
  },
  {
   "cell_type": "code",
   "execution_count": 63,
   "id": "dfae56d1",
   "metadata": {},
   "outputs": [
    {
     "data": {
      "text/plain": [
       "1933114.9999999998"
      ]
     },
     "execution_count": 63,
     "metadata": {},
     "output_type": "execute_result"
    }
   ],
   "source": [
    "TOTAL_SALES=df['TOT_SALES'].sum()\n",
    "TOTAL_SALES"
   ]
  },
  {
   "cell_type": "markdown",
   "id": "df34b383",
   "metadata": {},
   "source": [
    "total number of customers"
   ]
  },
  {
   "cell_type": "code",
   "execution_count": 64,
   "id": "b097022d",
   "metadata": {},
   "outputs": [
    {
     "data": {
      "text/plain": [
       "72636"
      ]
     },
     "execution_count": 64,
     "metadata": {},
     "output_type": "execute_result"
    }
   ],
   "source": [
    "TOT_NO_OF_CUST=df['LYLTY_CARD_NBR'].nunique()\n",
    "TOT_NO_OF_CUST"
   ]
  },
  {
   "cell_type": "markdown",
   "id": "d4bbc2b3",
   "metadata": {},
   "source": [
    "average number of transactions per customer"
   ]
  },
  {
   "cell_type": "code",
   "execution_count": 65,
   "id": "20d20a74",
   "metadata": {},
   "outputs": [
    {
     "data": {
      "text/plain": [
       "264834"
      ]
     },
     "execution_count": 65,
     "metadata": {},
     "output_type": "execute_result"
    }
   ],
   "source": [
    "TOT_NO_OF_TXN=df['TXN_ID'].count()\n",
    "TOT_NO_OF_TXN"
   ]
  },
  {
   "cell_type": "code",
   "execution_count": 66,
   "id": "a20ea44e",
   "metadata": {},
   "outputs": [
    {
     "data": {
      "text/plain": [
       "3.646043284321824"
      ]
     },
     "execution_count": 66,
     "metadata": {},
     "output_type": "execute_result"
    }
   ],
   "source": [
    "AVG_NO_OF_TXN_PER_CUST=TOT_NO_OF_TXN/TOT_NO_OF_CUST\n",
    "AVG_NO_OF_TXN_PER_CUST"
   ]
  },
  {
   "cell_type": "code",
   "execution_count": 67,
   "id": "822da7b4",
   "metadata": {},
   "outputs": [],
   "source": [
    "# Julia has asked us to evaluate the performance \n",
    "# of a store trial \n",
    "# which was performed in stores 77, 86 and 88."
   ]
  },
  {
   "cell_type": "code",
   "execution_count": 68,
   "id": "0dd989bc",
   "metadata": {},
   "outputs": [],
   "source": [
    "# WE HAVE DATA OF YEAR 2018-19"
   ]
  },
  {
   "cell_type": "code",
   "execution_count": 69,
   "id": "cd8f0904",
   "metadata": {},
   "outputs": [],
   "source": [
    "# consider the monthly sales experience of each store. "
   ]
  },
  {
   "cell_type": "markdown",
   "id": "5d16f41f",
   "metadata": {},
   "source": [
    "# So, making new monthly metrics per Store"
   ]
  },
  {
   "cell_type": "code",
   "execution_count": 70,
   "id": "bb090e7f",
   "metadata": {},
   "outputs": [
    {
     "data": {
      "text/plain": [
       "272"
      ]
     },
     "execution_count": 70,
     "metadata": {},
     "output_type": "execute_result"
    }
   ],
   "source": [
    "df['STORE_NBR'].nunique()"
   ]
  },
  {
   "cell_type": "code",
   "execution_count": 71,
   "id": "0845fa73",
   "metadata": {},
   "outputs": [],
   "source": [
    "df['DATE'] = pd.to_datetime(df['DATE'])\n",
    "\n",
    "df['DAY'] = df['DATE'].dt.day\n",
    "df['MONTH'] = df['DATE'].dt.month\n",
    "df['YEAR'] = df['DATE'].dt.year\n"
   ]
  },
  {
   "cell_type": "code",
   "execution_count": 72,
   "id": "a91a5595",
   "metadata": {},
   "outputs": [
    {
     "data": {
      "text/html": [
       "<div>\n",
       "<style scoped>\n",
       "    .dataframe tbody tr th:only-of-type {\n",
       "        vertical-align: middle;\n",
       "    }\n",
       "\n",
       "    .dataframe tbody tr th {\n",
       "        vertical-align: top;\n",
       "    }\n",
       "\n",
       "    .dataframe thead th {\n",
       "        text-align: right;\n",
       "    }\n",
       "</style>\n",
       "<table border=\"1\" class=\"dataframe\">\n",
       "  <thead>\n",
       "    <tr style=\"text-align: right;\">\n",
       "      <th></th>\n",
       "      <th>LYLTY_CARD_NBR</th>\n",
       "      <th>DATE</th>\n",
       "      <th>STORE_NBR</th>\n",
       "      <th>TXN_ID</th>\n",
       "      <th>PROD_NBR</th>\n",
       "      <th>PROD_NAME</th>\n",
       "      <th>PROD_QTY</th>\n",
       "      <th>TOT_SALES</th>\n",
       "      <th>PACK_SIZE</th>\n",
       "      <th>BRAND</th>\n",
       "      <th>LIFESTAGE</th>\n",
       "      <th>PREMIUM_CUSTOMER</th>\n",
       "      <th>DAY</th>\n",
       "      <th>MONTH</th>\n",
       "      <th>YEAR</th>\n",
       "    </tr>\n",
       "  </thead>\n",
       "  <tbody>\n",
       "    <tr>\n",
       "      <th>0</th>\n",
       "      <td>1000</td>\n",
       "      <td>2018-10-17</td>\n",
       "      <td>1</td>\n",
       "      <td>1</td>\n",
       "      <td>5</td>\n",
       "      <td>Natural Chip        Compny SeaSalt175g</td>\n",
       "      <td>2</td>\n",
       "      <td>6.0</td>\n",
       "      <td>175</td>\n",
       "      <td>NATURAL</td>\n",
       "      <td>YOUNG SINGLES/COUPLES</td>\n",
       "      <td>Premium</td>\n",
       "      <td>17</td>\n",
       "      <td>10</td>\n",
       "      <td>2018</td>\n",
       "    </tr>\n",
       "    <tr>\n",
       "      <th>1</th>\n",
       "      <td>1002</td>\n",
       "      <td>2018-09-16</td>\n",
       "      <td>1</td>\n",
       "      <td>2</td>\n",
       "      <td>58</td>\n",
       "      <td>Red Rock Deli Chikn&amp;Garlic Aioli 150g</td>\n",
       "      <td>1</td>\n",
       "      <td>2.7</td>\n",
       "      <td>150</td>\n",
       "      <td>RRD</td>\n",
       "      <td>YOUNG SINGLES/COUPLES</td>\n",
       "      <td>Mainstream</td>\n",
       "      <td>16</td>\n",
       "      <td>9</td>\n",
       "      <td>2018</td>\n",
       "    </tr>\n",
       "    <tr>\n",
       "      <th>2</th>\n",
       "      <td>1003</td>\n",
       "      <td>2019-03-07</td>\n",
       "      <td>1</td>\n",
       "      <td>3</td>\n",
       "      <td>52</td>\n",
       "      <td>Grain Waves Sour    Cream&amp;Chives 210G</td>\n",
       "      <td>1</td>\n",
       "      <td>3.6</td>\n",
       "      <td>210</td>\n",
       "      <td>GRNWVES</td>\n",
       "      <td>YOUNG FAMILIES</td>\n",
       "      <td>Budget</td>\n",
       "      <td>7</td>\n",
       "      <td>3</td>\n",
       "      <td>2019</td>\n",
       "    </tr>\n",
       "    <tr>\n",
       "      <th>3</th>\n",
       "      <td>1003</td>\n",
       "      <td>2019-03-08</td>\n",
       "      <td>1</td>\n",
       "      <td>4</td>\n",
       "      <td>106</td>\n",
       "      <td>Natural ChipCo      Hony Soy Chckn175g</td>\n",
       "      <td>1</td>\n",
       "      <td>3.0</td>\n",
       "      <td>175</td>\n",
       "      <td>NATURAL</td>\n",
       "      <td>YOUNG FAMILIES</td>\n",
       "      <td>Budget</td>\n",
       "      <td>8</td>\n",
       "      <td>3</td>\n",
       "      <td>2019</td>\n",
       "    </tr>\n",
       "    <tr>\n",
       "      <th>4</th>\n",
       "      <td>1004</td>\n",
       "      <td>2018-11-02</td>\n",
       "      <td>1</td>\n",
       "      <td>5</td>\n",
       "      <td>96</td>\n",
       "      <td>WW Original Stacked Chips 160g</td>\n",
       "      <td>1</td>\n",
       "      <td>1.9</td>\n",
       "      <td>160</td>\n",
       "      <td>WOOLWORTHS</td>\n",
       "      <td>OLDER SINGLES/COUPLES</td>\n",
       "      <td>Mainstream</td>\n",
       "      <td>2</td>\n",
       "      <td>11</td>\n",
       "      <td>2018</td>\n",
       "    </tr>\n",
       "  </tbody>\n",
       "</table>\n",
       "</div>"
      ],
      "text/plain": [
       "   LYLTY_CARD_NBR       DATE  STORE_NBR  TXN_ID  PROD_NBR  \\\n",
       "0            1000 2018-10-17          1       1         5   \n",
       "1            1002 2018-09-16          1       2        58   \n",
       "2            1003 2019-03-07          1       3        52   \n",
       "3            1003 2019-03-08          1       4       106   \n",
       "4            1004 2018-11-02          1       5        96   \n",
       "\n",
       "                                PROD_NAME  PROD_QTY  TOT_SALES  PACK_SIZE  \\\n",
       "0  Natural Chip        Compny SeaSalt175g         2        6.0        175   \n",
       "1   Red Rock Deli Chikn&Garlic Aioli 150g         1        2.7        150   \n",
       "2   Grain Waves Sour    Cream&Chives 210G         1        3.6        210   \n",
       "3  Natural ChipCo      Hony Soy Chckn175g         1        3.0        175   \n",
       "4          WW Original Stacked Chips 160g         1        1.9        160   \n",
       "\n",
       "        BRAND              LIFESTAGE PREMIUM_CUSTOMER  DAY  MONTH  YEAR  \n",
       "0     NATURAL  YOUNG SINGLES/COUPLES          Premium   17     10  2018  \n",
       "1         RRD  YOUNG SINGLES/COUPLES       Mainstream   16      9  2018  \n",
       "2     GRNWVES         YOUNG FAMILIES           Budget    7      3  2019  \n",
       "3     NATURAL         YOUNG FAMILIES           Budget    8      3  2019  \n",
       "4  WOOLWORTHS  OLDER SINGLES/COUPLES       Mainstream    2     11  2018  "
      ]
     },
     "execution_count": 72,
     "metadata": {},
     "output_type": "execute_result"
    }
   ],
   "source": [
    "df.head()"
   ]
  },
  {
   "cell_type": "code",
   "execution_count": 73,
   "id": "49367b22",
   "metadata": {},
   "outputs": [
    {
     "data": {
      "text/plain": [
       "2"
      ]
     },
     "execution_count": 73,
     "metadata": {},
     "output_type": "execute_result"
    }
   ],
   "source": [
    "df['YEAR'].nunique()"
   ]
  },
  {
   "cell_type": "code",
   "execution_count": 74,
   "id": "643be6a9",
   "metadata": {},
   "outputs": [
    {
     "data": {
      "text/plain": [
       "2018    133690\n",
       "2019    131144\n",
       "Name: YEAR, dtype: int64"
      ]
     },
     "execution_count": 74,
     "metadata": {},
     "output_type": "execute_result"
    }
   ],
   "source": [
    "df['YEAR'].value_counts()"
   ]
  },
  {
   "cell_type": "code",
   "execution_count": 75,
   "id": "7af25e37",
   "metadata": {},
   "outputs": [
    {
     "name": "stdout",
     "output_type": "stream",
     "text": [
      "<class 'pandas.core.frame.DataFrame'>\n",
      "RangeIndex: 264834 entries, 0 to 264833\n",
      "Data columns (total 15 columns):\n",
      " #   Column            Non-Null Count   Dtype         \n",
      "---  ------            --------------   -----         \n",
      " 0   LYLTY_CARD_NBR    264834 non-null  int64         \n",
      " 1   DATE              264834 non-null  datetime64[ns]\n",
      " 2   STORE_NBR         264834 non-null  int64         \n",
      " 3   TXN_ID            264834 non-null  int64         \n",
      " 4   PROD_NBR          264834 non-null  int64         \n",
      " 5   PROD_NAME         264834 non-null  object        \n",
      " 6   PROD_QTY          264834 non-null  int64         \n",
      " 7   TOT_SALES         264834 non-null  float64       \n",
      " 8   PACK_SIZE         264834 non-null  int64         \n",
      " 9   BRAND             264834 non-null  object        \n",
      " 10  LIFESTAGE         264834 non-null  object        \n",
      " 11  PREMIUM_CUSTOMER  264834 non-null  object        \n",
      " 12  DAY               264834 non-null  int64         \n",
      " 13  MONTH             264834 non-null  int64         \n",
      " 14  YEAR              264834 non-null  int64         \n",
      "dtypes: datetime64[ns](1), float64(1), int64(9), object(4)\n",
      "memory usage: 30.3+ MB\n"
     ]
    }
   ],
   "source": [
    "df.info()"
   ]
  },
  {
   "cell_type": "code",
   "execution_count": 101,
   "id": "73971778",
   "metadata": {},
   "outputs": [],
   "source": [
    "SALES_PER_MONTH = df.groupby(['MONTH', 'STORE_NBR']).agg(\n",
    "    revenue=('TOT_SALES', 'sum') ,                  #total sales revenue per month per store\n",
    "    customers=('LYLTY_CARD_NBR', pd.Series.nunique),  #total number of customers per month per store\n",
    "    transactions=('TXN_ID', 'count')                     #count of total transaction per month per store\n",
    ").reset_index()"
   ]
  },
  {
   "cell_type": "code",
   "execution_count": 109,
   "id": "9756ce9f",
   "metadata": {},
   "outputs": [
    {
     "data": {
      "text/html": [
       "<div>\n",
       "<style scoped>\n",
       "    .dataframe tbody tr th:only-of-type {\n",
       "        vertical-align: middle;\n",
       "    }\n",
       "\n",
       "    .dataframe tbody tr th {\n",
       "        vertical-align: top;\n",
       "    }\n",
       "\n",
       "    .dataframe thead th {\n",
       "        text-align: right;\n",
       "    }\n",
       "</style>\n",
       "<table border=\"1\" class=\"dataframe\">\n",
       "  <thead>\n",
       "    <tr style=\"text-align: right;\">\n",
       "      <th></th>\n",
       "      <th>MONTH</th>\n",
       "      <th>STORE_NBR</th>\n",
       "      <th>revenue</th>\n",
       "      <th>customers</th>\n",
       "      <th>transactions</th>\n",
       "      <th>AVG_TXN_PER_CUST</th>\n",
       "    </tr>\n",
       "  </thead>\n",
       "  <tbody>\n",
       "    <tr>\n",
       "      <th>0</th>\n",
       "      <td>1</td>\n",
       "      <td>1</td>\n",
       "      <td>154.8</td>\n",
       "      <td>35</td>\n",
       "      <td>36</td>\n",
       "      <td>1.028571</td>\n",
       "    </tr>\n",
       "    <tr>\n",
       "      <th>1</th>\n",
       "      <td>1</td>\n",
       "      <td>2</td>\n",
       "      <td>162.8</td>\n",
       "      <td>43</td>\n",
       "      <td>45</td>\n",
       "      <td>1.046512</td>\n",
       "    </tr>\n",
       "    <tr>\n",
       "      <th>2</th>\n",
       "      <td>1</td>\n",
       "      <td>3</td>\n",
       "      <td>1051.7</td>\n",
       "      <td>102</td>\n",
       "      <td>121</td>\n",
       "      <td>1.186275</td>\n",
       "    </tr>\n",
       "    <tr>\n",
       "      <th>3</th>\n",
       "      <td>1</td>\n",
       "      <td>4</td>\n",
       "      <td>1525.0</td>\n",
       "      <td>134</td>\n",
       "      <td>168</td>\n",
       "      <td>1.253731</td>\n",
       "    </tr>\n",
       "    <tr>\n",
       "      <th>4</th>\n",
       "      <td>1</td>\n",
       "      <td>5</td>\n",
       "      <td>838.0</td>\n",
       "      <td>92</td>\n",
       "      <td>118</td>\n",
       "      <td>1.282609</td>\n",
       "    </tr>\n",
       "  </tbody>\n",
       "</table>\n",
       "</div>"
      ],
      "text/plain": [
       "   MONTH  STORE_NBR  revenue  customers  transactions  AVG_TXN_PER_CUST\n",
       "0      1          1    154.8         35            36          1.028571\n",
       "1      1          2    162.8         43            45          1.046512\n",
       "2      1          3   1051.7        102           121          1.186275\n",
       "3      1          4   1525.0        134           168          1.253731\n",
       "4      1          5    838.0         92           118          1.282609"
      ]
     },
     "execution_count": 109,
     "metadata": {},
     "output_type": "execute_result"
    }
   ],
   "source": [
    "SALES_PER_MONTH.head()"
   ]
  },
  {
   "cell_type": "code",
   "execution_count": 103,
   "id": "9e63c17d",
   "metadata": {},
   "outputs": [],
   "source": [
    "data=pd.DataFrame(SALES_PER_MONTH)"
   ]
  },
  {
   "cell_type": "code",
   "execution_count": 108,
   "id": "faa5f298",
   "metadata": {},
   "outputs": [
    {
     "data": {
      "text/html": [
       "<div>\n",
       "<style scoped>\n",
       "    .dataframe tbody tr th:only-of-type {\n",
       "        vertical-align: middle;\n",
       "    }\n",
       "\n",
       "    .dataframe tbody tr th {\n",
       "        vertical-align: top;\n",
       "    }\n",
       "\n",
       "    .dataframe thead th {\n",
       "        text-align: right;\n",
       "    }\n",
       "</style>\n",
       "<table border=\"1\" class=\"dataframe\">\n",
       "  <thead>\n",
       "    <tr style=\"text-align: right;\">\n",
       "      <th></th>\n",
       "      <th>MONTH</th>\n",
       "      <th>STORE_NBR</th>\n",
       "      <th>revenue</th>\n",
       "      <th>customers</th>\n",
       "      <th>transactions</th>\n",
       "      <th>AVG_TXN_PER_CUST</th>\n",
       "    </tr>\n",
       "  </thead>\n",
       "  <tbody>\n",
       "    <tr>\n",
       "      <th>0</th>\n",
       "      <td>1</td>\n",
       "      <td>1</td>\n",
       "      <td>154.8</td>\n",
       "      <td>35</td>\n",
       "      <td>36</td>\n",
       "      <td>1.028571</td>\n",
       "    </tr>\n",
       "    <tr>\n",
       "      <th>1</th>\n",
       "      <td>1</td>\n",
       "      <td>2</td>\n",
       "      <td>162.8</td>\n",
       "      <td>43</td>\n",
       "      <td>45</td>\n",
       "      <td>1.046512</td>\n",
       "    </tr>\n",
       "    <tr>\n",
       "      <th>2</th>\n",
       "      <td>1</td>\n",
       "      <td>3</td>\n",
       "      <td>1051.7</td>\n",
       "      <td>102</td>\n",
       "      <td>121</td>\n",
       "      <td>1.186275</td>\n",
       "    </tr>\n",
       "    <tr>\n",
       "      <th>3</th>\n",
       "      <td>1</td>\n",
       "      <td>4</td>\n",
       "      <td>1525.0</td>\n",
       "      <td>134</td>\n",
       "      <td>168</td>\n",
       "      <td>1.253731</td>\n",
       "    </tr>\n",
       "    <tr>\n",
       "      <th>4</th>\n",
       "      <td>1</td>\n",
       "      <td>5</td>\n",
       "      <td>838.0</td>\n",
       "      <td>92</td>\n",
       "      <td>118</td>\n",
       "      <td>1.282609</td>\n",
       "    </tr>\n",
       "  </tbody>\n",
       "</table>\n",
       "</div>"
      ],
      "text/plain": [
       "   MONTH  STORE_NBR  revenue  customers  transactions  AVG_TXN_PER_CUST\n",
       "0      1          1    154.8         35            36          1.028571\n",
       "1      1          2    162.8         43            45          1.046512\n",
       "2      1          3   1051.7        102           121          1.186275\n",
       "3      1          4   1525.0        134           168          1.253731\n",
       "4      1          5    838.0         92           118          1.282609"
      ]
     },
     "execution_count": 108,
     "metadata": {},
     "output_type": "execute_result"
    }
   ],
   "source": [
    "data.head()"
   ]
  },
  {
   "cell_type": "code",
   "execution_count": 106,
   "id": "718da34e",
   "metadata": {},
   "outputs": [],
   "source": [
    "data['AVG_TXN_PER_CUST'] = data['transactions'] / data['customers']#average number of transactions per customer"
   ]
  },
  {
   "cell_type": "code",
   "execution_count": 107,
   "id": "5e841060",
   "metadata": {},
   "outputs": [
    {
     "data": {
      "text/html": [
       "<div>\n",
       "<style scoped>\n",
       "    .dataframe tbody tr th:only-of-type {\n",
       "        vertical-align: middle;\n",
       "    }\n",
       "\n",
       "    .dataframe tbody tr th {\n",
       "        vertical-align: top;\n",
       "    }\n",
       "\n",
       "    .dataframe thead th {\n",
       "        text-align: right;\n",
       "    }\n",
       "</style>\n",
       "<table border=\"1\" class=\"dataframe\">\n",
       "  <thead>\n",
       "    <tr style=\"text-align: right;\">\n",
       "      <th></th>\n",
       "      <th>MONTH</th>\n",
       "      <th>STORE_NBR</th>\n",
       "      <th>revenue</th>\n",
       "      <th>customers</th>\n",
       "      <th>transactions</th>\n",
       "      <th>AVG_TXN_PER_CUST</th>\n",
       "    </tr>\n",
       "  </thead>\n",
       "  <tbody>\n",
       "    <tr>\n",
       "      <th>0</th>\n",
       "      <td>1</td>\n",
       "      <td>1</td>\n",
       "      <td>154.8</td>\n",
       "      <td>35</td>\n",
       "      <td>36</td>\n",
       "      <td>1.028571</td>\n",
       "    </tr>\n",
       "    <tr>\n",
       "      <th>1</th>\n",
       "      <td>1</td>\n",
       "      <td>2</td>\n",
       "      <td>162.8</td>\n",
       "      <td>43</td>\n",
       "      <td>45</td>\n",
       "      <td>1.046512</td>\n",
       "    </tr>\n",
       "    <tr>\n",
       "      <th>2</th>\n",
       "      <td>1</td>\n",
       "      <td>3</td>\n",
       "      <td>1051.7</td>\n",
       "      <td>102</td>\n",
       "      <td>121</td>\n",
       "      <td>1.186275</td>\n",
       "    </tr>\n",
       "    <tr>\n",
       "      <th>3</th>\n",
       "      <td>1</td>\n",
       "      <td>4</td>\n",
       "      <td>1525.0</td>\n",
       "      <td>134</td>\n",
       "      <td>168</td>\n",
       "      <td>1.253731</td>\n",
       "    </tr>\n",
       "    <tr>\n",
       "      <th>4</th>\n",
       "      <td>1</td>\n",
       "      <td>5</td>\n",
       "      <td>838.0</td>\n",
       "      <td>92</td>\n",
       "      <td>118</td>\n",
       "      <td>1.282609</td>\n",
       "    </tr>\n",
       "  </tbody>\n",
       "</table>\n",
       "</div>"
      ],
      "text/plain": [
       "   MONTH  STORE_NBR  revenue  customers  transactions  AVG_TXN_PER_CUST\n",
       "0      1          1    154.8         35            36          1.028571\n",
       "1      1          2    162.8         43            45          1.046512\n",
       "2      1          3   1051.7        102           121          1.186275\n",
       "3      1          4   1525.0        134           168          1.253731\n",
       "4      1          5    838.0         92           118          1.282609"
      ]
     },
     "execution_count": 107,
     "metadata": {},
     "output_type": "execute_result"
    }
   ],
   "source": [
    "data.head()"
   ]
  },
  {
   "cell_type": "markdown",
   "id": "9bad10fd",
   "metadata": {},
   "source": [
    "### Create a measure to compare different control stores to each of the trial stores(77,86,88)\n",
    "\n",
    "to do this write a function\n",
    "\n",
    "to reduce having to re-do the analysis for each trial store\n",
    "\n",
    "### Consider using Pearson correlations or a metric such as a magnitude distance e.g. 1- (Observed distance – minimum distance)/(Maximum distance – minimum distance) as a measure."
   ]
  },
  {
   "cell_type": "code",
   "execution_count": 115,
   "id": "459852ad",
   "metadata": {},
   "outputs": [],
   "source": [
    "from scipy.stats import pearsonr\n",
    "def calculate_similarity(trial_store, data):\n",
    "    trial_data = data[data['STORE_NBR'] == trial_store]# trial store number\n",
    "    other_stores = data[data['STORE_NBR'] != trial_store]['STORE_NBR'].unique() # not the (trial store) numbers list\n",
    "\n",
    "                                                                #Initializes an empty list to store similarity results — like:\n",
    "                                                                #[(store_1, score_1), (store_2, score_2), ...]\n",
    "\n",
    "    results = []\n",
    "\n",
    "                                                #This loop compares the trial store\n",
    "                                                   #to each potential control store (from other_stores),\n",
    "                                                   #by matching them month-by-month on their metrics (revenue, customers, etc.).\n",
    "                                                #The goal is to prepare data for similarity scoring between\n",
    "                                                #the trial store and each control store.\n",
    "    \n",
    "    for store in other_stores:     \n",
    "                                                        #Loops through each potential control store number.                          \n",
    "        \n",
    "        control_data = data[data['STORE_NBR'] == store] \n",
    "                                                                # to get only the rows for the current store.\n",
    "        \n",
    "        merged = pd.merge(trial_data, control_data, on='MONTH', suffixes=('_trial', '_control')) \n",
    "                                                                #This merges the trial store's data with \n",
    "                                                                #the current control store’s data, using MONTH as the key\n",
    "                                                    #To evaluate how similar each control store is to the trial store based on:\n",
    "                                                        #Trend similarity → measured using Pearson correlation\n",
    "                                                        #Magnitude similarity → how close the actual values are\n",
    "\n",
    "\n",
    "        if len(merged) > 0:\n",
    "                                                            #Check if the merged DataFrame has any data — skip if \n",
    "                                                            #no common months between trial and control store.\n",
    "\n",
    "            cor = pearsonr(merged['revenue_trial'], merged['revenue_control'])[0]\n",
    "                                                                #Calculates the Pearson correlation coefficient \n",
    "                                                                #between revenue trends of trial and control store.\n",
    "\n",
    "                                                                #Returns a value between -1 and 1:\n",
    "                                                                    #+1 → perfect positive correlation\n",
    "                                                                    #0 → no correlation\n",
    "                                                                    #-1 → perfect negative correlation\n",
    "\n",
    "            mag_dist = 1 - abs(merged['revenue_trial'] - merged['revenue_control']).sum() / (\n",
    "                merged['revenue_trial'].max() - merged['revenue_trial'].min())\n",
    "                                                        #Calculates how close the revenue levels are.\n",
    "                                                            #Numerator: total absolute difference in revenue per month.\n",
    "                                                            #Denominator: range of trial revenue → makes it scale-independent.\n",
    "                                                            #Subtract from 1 → so that higher value = more similar.\n",
    "\n",
    "            score = 0.5 * cor + 0.5 * mag_dist\n",
    "                                                                #cor → how similar the shape/trend is\n",
    "                                                                    #mag_dist → how similar the revenue levels are\n",
    "                                                                    #Final score is between 0 and 1:\n",
    "                                                                    #Closer to 1 = more similar\n",
    "                                                                    #Closer to 0 = very different\n",
    "\n",
    "                \n",
    "            results.append((store, score))\n",
    "                                                                                #Store the result:\n",
    "\n",
    "    #Sort and return:\n",
    "    return sorted(results, key=lambda x: x[1], reverse=True)\n"
   ]
  },
  {
   "cell_type": "markdown",
   "id": "4fb3918c",
   "metadata": {},
   "source": [
    "# Check for enough rows\n",
    "# Add a safe check"
   ]
  },
  {
   "cell_type": "code",
   "execution_count": 118,
   "id": "bbe7c8a0",
   "metadata": {},
   "outputs": [],
   "source": [
    "def calculate_similarity(trial_store, data):\n",
    "    trial_data = data[data['STORE_NBR'] == trial_store]\n",
    "    other_stores = data[data['STORE_NBR'] != trial_store]['STORE_NBR'].unique()\n",
    "    \n",
    "    results = []\n",
    "    for store in other_stores:\n",
    "        control_data = data[data['STORE_NBR'] == store]\n",
    "        merged = pd.merge(trial_data, control_data, on='MONTH', suffixes=('_trial', '_control'))\n",
    "\n",
    "        # ✅ Check for enough rows\n",
    "        if len(merged) >= 2:\n",
    "            try:\n",
    "                cor = pearsonr(merged['revenue_trial'], merged['revenue_control'])[0]\n",
    "                \n",
    "                revenue_range = merged['revenue_trial'].max() - merged['revenue_trial'].min()\n",
    "                mag_dist = 0 if revenue_range == 0 else 1 - abs(merged['revenue_trial'] - merged['revenue_control']).sum() / revenue_range\n",
    "\n",
    "                score = 0.5 * cor + 0.5 * mag_dist\n",
    "                results.append((store, score))\n",
    "            except Exception as e:\n",
    "                print(f\"Error with store {store}: {e}\")\n",
    "    \n",
    "    return sorted(results, key=lambda x: x[1], reverse=True)\n"
   ]
  },
  {
   "cell_type": "markdown",
   "id": "137530c3",
   "metadata": {},
   "source": [
    "# Choose Your Trial Stores"
   ]
  },
  {
   "cell_type": "code",
   "execution_count": 119,
   "id": "cc0ca2ba",
   "metadata": {
    "scrolled": true
   },
   "outputs": [
    {
     "name": "stderr",
     "output_type": "stream",
     "text": [
      "c:\\users\\om sai\\appdata\\local\\programs\\python\\python37\\lib\\site-packages\\scipy\\stats\\stats.py:4023: PearsonRConstantInputWarning: An input array is constant; the correlation coefficient is not defined.\n",
      "  warnings.warn(PearsonRConstantInputWarning())\n"
     ]
    },
    {
     "name": "stdout",
     "output_type": "stream",
     "text": [
      "Trial → Control store mapping:\n",
      "{77: 46, 86: 109, 88: 40}\n"
     ]
    }
   ],
   "source": [
    "trial_stores = [77, 86, 88]\n",
    "control_store_mapping = {}\n",
    "\n",
    "for trial in trial_stores:\n",
    "    result = calculate_similarity(trial, data)\n",
    "    if result:\n",
    "        best_control = result[0][0]  # Store with highest similarity score\n",
    "        control_store_mapping[trial] = best_control\n",
    "\n",
    "print(\"Trial → Control store mapping:\")\n",
    "print(control_store_mapping)\n"
   ]
  },
  {
   "cell_type": "markdown",
   "id": "ab1dc74a",
   "metadata": {},
   "source": [
    "#  Compare Trial vs. Control During Trial Period"
   ]
  },
  {
   "cell_type": "code",
   "execution_count": 124,
   "id": "6889a2fa",
   "metadata": {},
   "outputs": [
    {
     "data": {
      "text/html": [
       "<div>\n",
       "<style scoped>\n",
       "    .dataframe tbody tr th:only-of-type {\n",
       "        vertical-align: middle;\n",
       "    }\n",
       "\n",
       "    .dataframe tbody tr th {\n",
       "        vertical-align: top;\n",
       "    }\n",
       "\n",
       "    .dataframe thead th {\n",
       "        text-align: right;\n",
       "    }\n",
       "</style>\n",
       "<table border=\"1\" class=\"dataframe\">\n",
       "  <thead>\n",
       "    <tr style=\"text-align: right;\">\n",
       "      <th></th>\n",
       "      <th>STORE_NBR_trial</th>\n",
       "      <th>revenue_trial</th>\n",
       "      <th>customers_trial</th>\n",
       "      <th>transactions_trial</th>\n",
       "      <th>AVG_TXN_PER_CUST_trial</th>\n",
       "      <th>MONTH</th>\n",
       "      <th>STORE_NBR_control</th>\n",
       "      <th>revenue_control</th>\n",
       "      <th>customers_control</th>\n",
       "      <th>transactions_control</th>\n",
       "      <th>AVG_TXN_PER_CUST_control</th>\n",
       "    </tr>\n",
       "  </thead>\n",
       "  <tbody>\n",
       "  </tbody>\n",
       "</table>\n",
       "</div>"
      ],
      "text/plain": [
       "Empty DataFrame\n",
       "Columns: [STORE_NBR_trial, revenue_trial, customers_trial, transactions_trial, AVG_TXN_PER_CUST_trial, MONTH, STORE_NBR_control, revenue_control, customers_control, transactions_control, AVG_TXN_PER_CUST_control]\n",
       "Index: []"
      ]
     },
     "execution_count": 124,
     "metadata": {},
     "output_type": "execute_result"
    }
   ],
   "source": [
    "merged"
   ]
  },
  {
   "cell_type": "code",
   "execution_count": 125,
   "id": "89a9a50d",
   "metadata": {},
   "outputs": [
    {
     "name": "stdout",
     "output_type": "stream",
     "text": [
      "\n",
      "📌 Store 77 vs Control 46\n"
     ]
    },
    {
     "data": {
      "text/html": [
       "<div>\n",
       "<style scoped>\n",
       "    .dataframe tbody tr th:only-of-type {\n",
       "        vertical-align: middle;\n",
       "    }\n",
       "\n",
       "    .dataframe tbody tr th {\n",
       "        vertical-align: top;\n",
       "    }\n",
       "\n",
       "    .dataframe thead th {\n",
       "        text-align: right;\n",
       "    }\n",
       "</style>\n",
       "<table border=\"1\" class=\"dataframe\">\n",
       "  <thead>\n",
       "    <tr style=\"text-align: right;\">\n",
       "      <th></th>\n",
       "      <th>MONTH</th>\n",
       "      <th>revenue_trial</th>\n",
       "      <th>revenue_control</th>\n",
       "      <th>customers_trial</th>\n",
       "      <th>customers_control</th>\n",
       "      <th>AVG_TXN_PER_CUST_trial</th>\n",
       "      <th>AVG_TXN_PER_CUST_control</th>\n",
       "    </tr>\n",
       "  </thead>\n",
       "  <tbody>\n",
       "  </tbody>\n",
       "</table>\n",
       "</div>"
      ],
      "text/plain": [
       "Empty DataFrame\n",
       "Columns: [MONTH, revenue_trial, revenue_control, customers_trial, customers_control, AVG_TXN_PER_CUST_trial, AVG_TXN_PER_CUST_control]\n",
       "Index: []"
      ]
     },
     "metadata": {},
     "output_type": "display_data"
    },
    {
     "name": "stdout",
     "output_type": "stream",
     "text": [
      "\n",
      "📌 Store 86 vs Control 109\n"
     ]
    },
    {
     "data": {
      "text/html": [
       "<div>\n",
       "<style scoped>\n",
       "    .dataframe tbody tr th:only-of-type {\n",
       "        vertical-align: middle;\n",
       "    }\n",
       "\n",
       "    .dataframe tbody tr th {\n",
       "        vertical-align: top;\n",
       "    }\n",
       "\n",
       "    .dataframe thead th {\n",
       "        text-align: right;\n",
       "    }\n",
       "</style>\n",
       "<table border=\"1\" class=\"dataframe\">\n",
       "  <thead>\n",
       "    <tr style=\"text-align: right;\">\n",
       "      <th></th>\n",
       "      <th>MONTH</th>\n",
       "      <th>revenue_trial</th>\n",
       "      <th>revenue_control</th>\n",
       "      <th>customers_trial</th>\n",
       "      <th>customers_control</th>\n",
       "      <th>AVG_TXN_PER_CUST_trial</th>\n",
       "      <th>AVG_TXN_PER_CUST_control</th>\n",
       "    </tr>\n",
       "  </thead>\n",
       "  <tbody>\n",
       "  </tbody>\n",
       "</table>\n",
       "</div>"
      ],
      "text/plain": [
       "Empty DataFrame\n",
       "Columns: [MONTH, revenue_trial, revenue_control, customers_trial, customers_control, AVG_TXN_PER_CUST_trial, AVG_TXN_PER_CUST_control]\n",
       "Index: []"
      ]
     },
     "metadata": {},
     "output_type": "display_data"
    },
    {
     "name": "stdout",
     "output_type": "stream",
     "text": [
      "\n",
      "📌 Store 88 vs Control 40\n"
     ]
    },
    {
     "data": {
      "text/html": [
       "<div>\n",
       "<style scoped>\n",
       "    .dataframe tbody tr th:only-of-type {\n",
       "        vertical-align: middle;\n",
       "    }\n",
       "\n",
       "    .dataframe tbody tr th {\n",
       "        vertical-align: top;\n",
       "    }\n",
       "\n",
       "    .dataframe thead th {\n",
       "        text-align: right;\n",
       "    }\n",
       "</style>\n",
       "<table border=\"1\" class=\"dataframe\">\n",
       "  <thead>\n",
       "    <tr style=\"text-align: right;\">\n",
       "      <th></th>\n",
       "      <th>MONTH</th>\n",
       "      <th>revenue_trial</th>\n",
       "      <th>revenue_control</th>\n",
       "      <th>customers_trial</th>\n",
       "      <th>customers_control</th>\n",
       "      <th>AVG_TXN_PER_CUST_trial</th>\n",
       "      <th>AVG_TXN_PER_CUST_control</th>\n",
       "    </tr>\n",
       "  </thead>\n",
       "  <tbody>\n",
       "  </tbody>\n",
       "</table>\n",
       "</div>"
      ],
      "text/plain": [
       "Empty DataFrame\n",
       "Columns: [MONTH, revenue_trial, revenue_control, customers_trial, customers_control, AVG_TXN_PER_CUST_trial, AVG_TXN_PER_CUST_control]\n",
       "Index: []"
      ]
     },
     "metadata": {},
     "output_type": "display_data"
    }
   ],
   "source": [
    "trial_period = pd.period_range('2019-02', '2019-04', freq='M')\n",
    "\n",
    "for trial_store, control_store in control_store_mapping.items():\n",
    "    trial = data[(data['STORE_NBR'] == trial_store) & \n",
    "                            (data['MONTH'].isin(trial_period))]\n",
    "    control = data[(data['STORE_NBR'] == control_store) & \n",
    "                              (data['MONTH'].isin(trial_period))]\n",
    "    \n",
    "    merged = pd.merge(trial, control, on='MONTH', suffixes=('_trial', '_control'))\n",
    "    \n",
    "    print(f\"\\n📌 Store {trial_store} vs Control {control_store}\")\n",
    "    display(merged[['MONTH', 'revenue_trial', 'revenue_control',\n",
    "                    'customers_trial', 'customers_control',\n",
    "                    'AVG_TXN_PER_CUST_trial', 'AVG_TXN_PER_CUST_control']])\n"
   ]
  },
  {
   "cell_type": "code",
   "execution_count": null,
   "id": "0a05d14a",
   "metadata": {},
   "outputs": [],
   "source": []
  },
  {
   "cell_type": "markdown",
   "id": "009afd03",
   "metadata": {},
   "source": [
    "#  Plot the Comparison "
   ]
  },
  {
   "cell_type": "code",
   "execution_count": 123,
   "id": "fa27e62a",
   "metadata": {},
   "outputs": [
    {
     "data": {
      "image/png": "[encoded data removed]",
      "text/plain": [
       "<Figure size 1000x500 with 1 Axes>"
      ]
     },
     "metadata": {},
     "output_type": "display_data"
    },
    {
     "data": {
      "image/png": "[encoded data removed]",
      "text/plain": [
       "<Figure size 1000x500 with 1 Axes>"
      ]
     },
     "metadata": {},
     "output_type": "display_data"
    },
    {
     "data": {
      "image/png": "[encoded data removed]",
      "text/plain": [
       "<Figure size 1000x500 with 1 Axes>"
      ]
     },
     "metadata": {},
     "output_type": "display_data"
    }
   ],
   "source": [
    "import matplotlib.pyplot as plt\n",
    "\n",
    "for trial_store, control_store in control_store_mapping.items():\n",
    "    trial = data[(data['STORE_NBR'] == trial_store)]\n",
    "    control = data[(data['STORE_NBR'] == control_store)]\n",
    "    \n",
    "    plt.figure(figsize=(10,5))\n",
    "    plt.plot(trial['MONTH'].astype(str), trial['revenue'], label=f'Trial Store {trial_store}')\n",
    "    plt.plot(control['MONTH'].astype(str), control['revenue'], label=f'Control Store {control_store}')\n",
    "    plt.title(f'Revenue Trend: Store {trial_store} vs {control_store}')\n",
    "    plt.xlabel('Month')\n",
    "    plt.ylabel('Revenue')\n",
    "    plt.xticks(rotation=45)\n",
    "    plt.legend()\n",
    "    plt.grid(True)\n",
    "    plt.tight_layout()\n",
    "    plt.show()\n"
   ]
  },
  {
   "cell_type": "code",
   "execution_count": null,
   "id": "93264de5",
   "metadata": {},
   "outputs": [],
   "source": []
  }
 ],
 "metadata": {
  "kernelspec": {
   "display_name": "Python 3 (ipykernel)",
   "language": "python",
   "name": "python3"
  },
  "language_info": {
   "codemirror_mode": {
    "name": "ipython",
    "version": 3
   },
   "file_extension": ".py",
   "mimetype": "text/x-python",
   "name": "python",
   "nbconvert_exporter": "python",
   "pygments_lexer": "ipython3",
   "version": "3.7.4"
  }
 },
 "nbformat": 4,
 "nbformat_minor": 5
}
